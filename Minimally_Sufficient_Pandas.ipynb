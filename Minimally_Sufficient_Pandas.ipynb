{
  "nbformat": 4,
  "nbformat_minor": 0,
  "metadata": {
    "colab": {
      "name": "Minimally_Sufficient_Pandas.ipynb",
      "provenance": [],
      "include_colab_link": true
    },
    "kernelspec": {
      "name": "python3",
      "display_name": "Python 3"
    }
  },
  "cells": [
    {
      "cell_type": "markdown",
      "metadata": {
        "id": "view-in-github",
        "colab_type": "text"
      },
      "source": [
        "<a href=\"https://colab.research.google.com/github/binliu0630/Data_Manipulation/blob/master/Minimally_Sufficient_Pandas.ipynb\" target=\"_parent\"><img src=\"https://colab.research.google.com/assets/colab-badge.svg\" alt=\"Open In Colab\"/></a>"
      ]
    },
    {
      "cell_type": "markdown",
      "metadata": {
        "id": "DvKPqCGSJpuz",
        "colab_type": "text"
      },
      "source": [
        "- Inspired by https://colab.research.google.com/drive/1_9fwgpRrQupG1uBunaS2-ySfr0dXdfcb#scrollTo=DvKPqCGSJpuz"
      ]
    },
    {
      "cell_type": "markdown",
      "metadata": {
        "id": "YFB26UjAK_vU",
        "colab_type": "text"
      },
      "source": [
        "- Selecting a single column of data\n",
        "- The deprecated ix indexer\n",
        "- Selection with at and iat\n",
        "read_csv vs read_table duplication\n",
        "isna vs isnull and notna vs notnull\n",
        "Arithmetic and Comparison Operators and their Corresponding Methods\n",
        "Builtin Python functions vs Pandas methods with the same name\n",
        "Standardizing groupby aggregation\n",
        "Handling a MultiIndex\n",
        "The similarity between groupby, pivot_table and crosstab\n",
        "pivot vs pivot_table\n",
        "The similarity between melt and stack\n",
        "The similarity between pivot and unstack\n"
      ]
    },
    {
      "cell_type": "code",
      "metadata": {
        "id": "wCVnPejFNgdt",
        "colab_type": "code",
        "colab": {}
      },
      "source": [
        ""
      ],
      "execution_count": 0,
      "outputs": []
    },
    {
      "cell_type": "markdown",
      "metadata": {
        "id": "Z-2hrCCwNjWG",
        "colab_type": "text"
      },
      "source": [
        "**Read in data**\n",
        "- Only use read_csv to read in delimitted text files"
      ]
    },
    {
      "cell_type": "code",
      "metadata": {
        "id": "7jt3_7Z9LhX1",
        "colab_type": "code",
        "colab": {}
      },
      "source": [
        "import pandas as pd\n",
        "\n",
        "data = pd.read_csv('https://ed-public-download.app.cloud.gov/downloads/Most-Recent-Cohorts-Scorecard-Elements.csv') # instead of pd.read_table('', delimiter=', ')"
      ],
      "execution_count": 0,
      "outputs": []
    },
    {
      "cell_type": "code",
      "metadata": {
        "id": "iMpHKwrEJo2I",
        "colab_type": "code",
        "colab": {
          "base_uri": "https://localhost:8080/",
          "height": 245
        },
        "outputId": "8ce2ab0f-7fa8-4c4d-fbe4-9612e3d44de9"
      },
      "source": [
        "data.head(2)"
      ],
      "execution_count": 3,
      "outputs": [
        {
          "output_type": "execute_result",
          "data": {
            "text/html": [
              "<div>\n",
              "<style scoped>\n",
              "    .dataframe tbody tr th:only-of-type {\n",
              "        vertical-align: middle;\n",
              "    }\n",
              "\n",
              "    .dataframe tbody tr th {\n",
              "        vertical-align: top;\n",
              "    }\n",
              "\n",
              "    .dataframe thead th {\n",
              "        text-align: right;\n",
              "    }\n",
              "</style>\n",
              "<table border=\"1\" class=\"dataframe\">\n",
              "  <thead>\n",
              "    <tr style=\"text-align: right;\">\n",
              "      <th></th>\n",
              "      <th>UNITID</th>\n",
              "      <th>OPEID</th>\n",
              "      <th>OPEID6</th>\n",
              "      <th>INSTNM</th>\n",
              "      <th>CITY</th>\n",
              "      <th>STABBR</th>\n",
              "      <th>INSTURL</th>\n",
              "      <th>NPCURL</th>\n",
              "      <th>HCM2</th>\n",
              "      <th>PREDDEG</th>\n",
              "      <th>HIGHDEG</th>\n",
              "      <th>CONTROL</th>\n",
              "      <th>LOCALE</th>\n",
              "      <th>HBCU</th>\n",
              "      <th>PBI</th>\n",
              "      <th>ANNHI</th>\n",
              "      <th>TRIBAL</th>\n",
              "      <th>AANAPII</th>\n",
              "      <th>HSI</th>\n",
              "      <th>NANTI</th>\n",
              "      <th>MENONLY</th>\n",
              "      <th>WOMENONLY</th>\n",
              "      <th>RELAFFIL</th>\n",
              "      <th>SATVR25</th>\n",
              "      <th>SATVR75</th>\n",
              "      <th>SATMT25</th>\n",
              "      <th>SATMT75</th>\n",
              "      <th>SATWR25</th>\n",
              "      <th>SATWR75</th>\n",
              "      <th>SATVRMID</th>\n",
              "      <th>SATMTMID</th>\n",
              "      <th>SATWRMID</th>\n",
              "      <th>ACTCM25</th>\n",
              "      <th>ACTCM75</th>\n",
              "      <th>ACTEN25</th>\n",
              "      <th>ACTEN75</th>\n",
              "      <th>ACTMT25</th>\n",
              "      <th>ACTMT75</th>\n",
              "      <th>ACTWR25</th>\n",
              "      <th>ACTWR75</th>\n",
              "      <th>...</th>\n",
              "      <th>CIPTITLE5</th>\n",
              "      <th>CIPTITLE6</th>\n",
              "      <th>CIPTFBS1</th>\n",
              "      <th>CIPTFBS2</th>\n",
              "      <th>CIPTFBS3</th>\n",
              "      <th>CIPTFBS4</th>\n",
              "      <th>CIPTFBS5</th>\n",
              "      <th>CIPTFBS6</th>\n",
              "      <th>CIPTFBSANNUAL1</th>\n",
              "      <th>CIPTFBSANNUAL2</th>\n",
              "      <th>CIPTFBSANNUAL3</th>\n",
              "      <th>CIPTFBSANNUAL4</th>\n",
              "      <th>CIPTFBSANNUAL5</th>\n",
              "      <th>CIPTFBSANNUAL6</th>\n",
              "      <th>MTHCMP1</th>\n",
              "      <th>MTHCMP2</th>\n",
              "      <th>MTHCMP3</th>\n",
              "      <th>MTHCMP4</th>\n",
              "      <th>MTHCMP5</th>\n",
              "      <th>MTHCMP6</th>\n",
              "      <th>OMENRYP_ALL_POOLED_SUPP</th>\n",
              "      <th>OMENRAP_ALL_POOLED_SUPP</th>\n",
              "      <th>OMAWDP8_ALL_POOLED_SUPP</th>\n",
              "      <th>OMENRUP_ALL_POOLED_SUPP</th>\n",
              "      <th>OMENRYP_FIRSTTIME_POOLED_SUPP</th>\n",
              "      <th>OMENRAP_FIRSTTIME_POOLED_SUPP</th>\n",
              "      <th>OMAWDP8_FIRSTTIME_POOLED_SUPP</th>\n",
              "      <th>OMENRUP_FIRSTTIME_POOLED_SUPP</th>\n",
              "      <th>OMENRYP_NOTFIRSTTIME_POOLED_SUPP</th>\n",
              "      <th>OMENRAP_NOTFIRSTTIME_POOLED_SUPP</th>\n",
              "      <th>OMAWDP8_NOTFIRSTTIME_POOLED_SUPP</th>\n",
              "      <th>OMENRUP_NOTFIRSTTIME_POOLED_SUPP</th>\n",
              "      <th>OMENRYP_FULLTIME_POOLED_SUPP</th>\n",
              "      <th>OMENRAP_FULLTIME_POOLED_SUPP</th>\n",
              "      <th>OMAWDP8_FULLTIME_POOLED_SUPP</th>\n",
              "      <th>OMENRUP_FULLTIME_POOLED_SUPP</th>\n",
              "      <th>OMENRYP_PARTTIME_POOLED_SUPP</th>\n",
              "      <th>OMENRAP_PARTTIME_POOLED_SUPP</th>\n",
              "      <th>OMAWDP8_PARTTIME_POOLED_SUPP</th>\n",
              "      <th>OMENRUP_PARTTIME_POOLED_SUPP</th>\n",
              "    </tr>\n",
              "  </thead>\n",
              "  <tbody>\n",
              "    <tr>\n",
              "      <th>0</th>\n",
              "      <td>100654</td>\n",
              "      <td>100200</td>\n",
              "      <td>1002</td>\n",
              "      <td>Alabama A &amp; M University</td>\n",
              "      <td>Normal</td>\n",
              "      <td>AL</td>\n",
              "      <td>www.aamu.edu/</td>\n",
              "      <td>https://galileo.aamu.edu/NetPriceCalculator/np...</td>\n",
              "      <td>0</td>\n",
              "      <td>3</td>\n",
              "      <td>4</td>\n",
              "      <td>1</td>\n",
              "      <td>12.0</td>\n",
              "      <td>1.0</td>\n",
              "      <td>0.0</td>\n",
              "      <td>0.0</td>\n",
              "      <td>0.0</td>\n",
              "      <td>0.0</td>\n",
              "      <td>0</td>\n",
              "      <td>0.0</td>\n",
              "      <td>0.0</td>\n",
              "      <td>0.0</td>\n",
              "      <td>NaN</td>\n",
              "      <td>365.0</td>\n",
              "      <td>485.0</td>\n",
              "      <td>360.0</td>\n",
              "      <td>495.0</td>\n",
              "      <td>370.0</td>\n",
              "      <td>457.0</td>\n",
              "      <td>425.0</td>\n",
              "      <td>428.0</td>\n",
              "      <td>414.0</td>\n",
              "      <td>16.0</td>\n",
              "      <td>19.0</td>\n",
              "      <td>14.0</td>\n",
              "      <td>20.0</td>\n",
              "      <td>15.0</td>\n",
              "      <td>18.0</td>\n",
              "      <td>NaN</td>\n",
              "      <td>NaN</td>\n",
              "      <td>...</td>\n",
              "      <td>NaN</td>\n",
              "      <td>NaN</td>\n",
              "      <td>NaN</td>\n",
              "      <td>NaN</td>\n",
              "      <td>NaN</td>\n",
              "      <td>NaN</td>\n",
              "      <td>NaN</td>\n",
              "      <td>NaN</td>\n",
              "      <td>NaN</td>\n",
              "      <td>NaN</td>\n",
              "      <td>NaN</td>\n",
              "      <td>NaN</td>\n",
              "      <td>NaN</td>\n",
              "      <td>NaN</td>\n",
              "      <td>NaN</td>\n",
              "      <td>NaN</td>\n",
              "      <td>NaN</td>\n",
              "      <td>NaN</td>\n",
              "      <td>NaN</td>\n",
              "      <td>NaN</td>\n",
              "      <td>0.0152</td>\n",
              "      <td>0.3255</td>\n",
              "      <td>0.3645</td>\n",
              "      <td>0.2947</td>\n",
              "      <td>0.0163</td>\n",
              "      <td>0.3273</td>\n",
              "      <td>0.3532</td>\n",
              "      <td>0.3032</td>\n",
              "      <td>0.0113</td>\n",
              "      <td>0.3194</td>\n",
              "      <td>0.4048</td>\n",
              "      <td>0.2645</td>\n",
              "      <td>0.0137</td>\n",
              "      <td>0.315</td>\n",
              "      <td>0.3755</td>\n",
              "      <td>0.2958</td>\n",
              "      <td>0.0289</td>\n",
              "      <td>0.4224</td>\n",
              "      <td>0.2635</td>\n",
              "      <td>0.2852</td>\n",
              "    </tr>\n",
              "    <tr>\n",
              "      <th>1</th>\n",
              "      <td>100663</td>\n",
              "      <td>105200</td>\n",
              "      <td>1052</td>\n",
              "      <td>University of Alabama at Birmingham</td>\n",
              "      <td>Birmingham</td>\n",
              "      <td>AL</td>\n",
              "      <td>www.uab.edu</td>\n",
              "      <td>uab.studentaidcalculator.com/survey.aspx</td>\n",
              "      <td>0</td>\n",
              "      <td>3</td>\n",
              "      <td>4</td>\n",
              "      <td>1</td>\n",
              "      <td>12.0</td>\n",
              "      <td>0.0</td>\n",
              "      <td>0.0</td>\n",
              "      <td>0.0</td>\n",
              "      <td>0.0</td>\n",
              "      <td>0.0</td>\n",
              "      <td>0</td>\n",
              "      <td>0.0</td>\n",
              "      <td>0.0</td>\n",
              "      <td>0.0</td>\n",
              "      <td>NaN</td>\n",
              "      <td>440.0</td>\n",
              "      <td>630.0</td>\n",
              "      <td>550.0</td>\n",
              "      <td>740.0</td>\n",
              "      <td>NaN</td>\n",
              "      <td>NaN</td>\n",
              "      <td>535.0</td>\n",
              "      <td>645.0</td>\n",
              "      <td>NaN</td>\n",
              "      <td>21.0</td>\n",
              "      <td>28.0</td>\n",
              "      <td>22.0</td>\n",
              "      <td>31.0</td>\n",
              "      <td>21.0</td>\n",
              "      <td>26.0</td>\n",
              "      <td>NaN</td>\n",
              "      <td>NaN</td>\n",
              "      <td>...</td>\n",
              "      <td>NaN</td>\n",
              "      <td>NaN</td>\n",
              "      <td>NaN</td>\n",
              "      <td>NaN</td>\n",
              "      <td>NaN</td>\n",
              "      <td>NaN</td>\n",
              "      <td>NaN</td>\n",
              "      <td>NaN</td>\n",
              "      <td>NaN</td>\n",
              "      <td>NaN</td>\n",
              "      <td>NaN</td>\n",
              "      <td>NaN</td>\n",
              "      <td>NaN</td>\n",
              "      <td>NaN</td>\n",
              "      <td>NaN</td>\n",
              "      <td>NaN</td>\n",
              "      <td>NaN</td>\n",
              "      <td>NaN</td>\n",
              "      <td>NaN</td>\n",
              "      <td>NaN</td>\n",
              "      <td>0.0828</td>\n",
              "      <td>0.2588</td>\n",
              "      <td>0.5591</td>\n",
              "      <td>0.0993</td>\n",
              "      <td>0.0786</td>\n",
              "      <td>0.2684</td>\n",
              "      <td>0.5716</td>\n",
              "      <td>0.0814</td>\n",
              "      <td>0.0876</td>\n",
              "      <td>0.2477</td>\n",
              "      <td>0.5448</td>\n",
              "      <td>0.12</td>\n",
              "      <td>0.0728</td>\n",
              "      <td>0.2583</td>\n",
              "      <td>0.5872</td>\n",
              "      <td>0.0817</td>\n",
              "      <td>0.1398</td>\n",
              "      <td>0.2618</td>\n",
              "      <td>0.3977</td>\n",
              "      <td>0.2008</td>\n",
              "    </tr>\n",
              "  </tbody>\n",
              "</table>\n",
              "<p>2 rows × 190 columns</p>\n",
              "</div>"
            ],
            "text/plain": [
              "   UNITID   OPEID  ...  OMAWDP8_PARTTIME_POOLED_SUPP OMENRUP_PARTTIME_POOLED_SUPP\n",
              "0  100654  100200  ...                        0.2635                       0.2852\n",
              "1  100663  105200  ...                        0.3977                       0.2008\n",
              "\n",
              "[2 rows x 190 columns]"
            ]
          },
          "metadata": {
            "tags": []
          },
          "execution_count": 3
        }
      ]
    },
    {
      "cell_type": "markdown",
      "metadata": {
        "id": "bPFuKPmFM1I4",
        "colab_type": "text"
      },
      "source": [
        "**Selecting data**\n",
        "- The brackets are a superset of dot notation\n",
        "- Every trace of ix should be removed and replaced with loc or iloc"
      ]
    },
    {
      "cell_type": "code",
      "metadata": {
        "id": "QS_QK1HCMr91",
        "colab_type": "code",
        "colab": {}
      },
      "source": [
        "data['CITY'] # instead of data.CITY"
      ],
      "execution_count": 0,
      "outputs": []
    },
    {
      "cell_type": "code",
      "metadata": {
        "id": "9i3FMWjPM5Dy",
        "colab_type": "code",
        "colab": {}
      },
      "source": [
        "data.loc[:, ['CITY', 'STABBR']] # instead of data.ix"
      ],
      "execution_count": 0,
      "outputs": []
    },
    {
      "cell_type": "code",
      "metadata": {
        "id": "f7xEHtKjNGSr",
        "colab_type": "code",
        "colab": {}
      },
      "source": [
        "data.iloc[:, 1:3]"
      ],
      "execution_count": 0,
      "outputs": []
    },
    {
      "cell_type": "markdown",
      "metadata": {
        "id": "Wt-idKEBOwL2",
        "colab_type": "text"
      },
      "source": [
        "**About NA**\n",
        "\n",
        "- only use **isna** and **notna**,matching the names of the other missing value methods **dropna** and **fillna**.\n",
        "- You can also avoid ever using **notna** since Pandas provides the inversion operator, ~ to invert boolean DataFrames."
      ]
    },
    {
      "cell_type": "code",
      "metadata": {
        "id": "jUqg4tkzOBAi",
        "colab_type": "code",
        "colab": {}
      },
      "source": [
        "data['UNITID'].isna() # instead of: data['UNITID'].isnull()"
      ],
      "execution_count": 0,
      "outputs": []
    },
    {
      "cell_type": "markdown",
      "metadata": {
        "id": "9z1BKaCuQthp",
        "colab_type": "text"
      },
      "source": [
        "**Use the Pandas method over any built-in Python function with the same name.**\n",
        "- sum(), max(), min()\n",
        "\n",
        "- Calling sum() essentially creates a Python for loop to iterate through each value one at a time. On the other hand, calling.sum() executes the internal Pandas sum method which is written in C and much faster than iterating with a Python for loop."
      ]
    },
    {
      "cell_type": "code",
      "metadata": {
        "id": "CkuBJ1IvQkPA",
        "colab_type": "code",
        "colab": {
          "base_uri": "https://localhost:8080/",
          "height": 34
        },
        "outputId": "f1fa0e64-9bae-48c1-dcbe-15c3472a08cb"
      },
      "source": [
        "\n",
        "data['PBI'].dropna().sum() # instead of: sum(data['PBI'].dropna())"
      ],
      "execution_count": 22,
      "outputs": [
        {
          "output_type": "execute_result",
          "data": {
            "text/plain": [
              "101.0"
            ]
          },
          "metadata": {
            "tags": []
          },
          "execution_count": 22
        }
      ]
    },
    {
      "cell_type": "markdown",
      "metadata": {
        "id": "syaqf050SQuz",
        "colab_type": "text"
      },
      "source": [
        "**Standardizing groupby Aggregation**\n",
        "- df.groupby('grouping column').agg({'aggregating column': 'aggregating function'})\n",
        "- df.groupby(['gropuing column']).agg({'colum1': ['sum', 'max'],'column2':['min']})\n",
        "- Avoid using a MultiIndex. Flatten it after a call to groupby by renaming columns and resetting the index."
      ]
    },
    {
      "cell_type": "code",
      "metadata": {
        "id": "FJWiO1rHSP8o",
        "colab_type": "code",
        "colab": {
          "base_uri": "https://localhost:8080/",
          "height": 266
        },
        "outputId": "e294d5b6-e83c-4d07-d748-3f8253249285"
      },
      "source": [
        "data.groupby('CITY').agg({'PBI':['max', 'min']}).head() # instead of: data.groupby('CITY').['PBI'].aggregate('max')"
      ],
      "execution_count": 28,
      "outputs": [
        {
          "output_type": "execute_result",
          "data": {
            "text/html": [
              "<div>\n",
              "<style scoped>\n",
              "    .dataframe tbody tr th:only-of-type {\n",
              "        vertical-align: middle;\n",
              "    }\n",
              "\n",
              "    .dataframe tbody tr th {\n",
              "        vertical-align: top;\n",
              "    }\n",
              "\n",
              "    .dataframe thead tr th {\n",
              "        text-align: left;\n",
              "    }\n",
              "\n",
              "    .dataframe thead tr:last-of-type th {\n",
              "        text-align: right;\n",
              "    }\n",
              "</style>\n",
              "<table border=\"1\" class=\"dataframe\">\n",
              "  <thead>\n",
              "    <tr>\n",
              "      <th></th>\n",
              "      <th colspan=\"2\" halign=\"left\">PBI</th>\n",
              "    </tr>\n",
              "    <tr>\n",
              "      <th></th>\n",
              "      <th>max</th>\n",
              "      <th>min</th>\n",
              "    </tr>\n",
              "    <tr>\n",
              "      <th>CITY</th>\n",
              "      <th></th>\n",
              "      <th></th>\n",
              "    </tr>\n",
              "  </thead>\n",
              "  <tbody>\n",
              "    <tr>\n",
              "      <th>ARTESIA</th>\n",
              "      <td>0.0</td>\n",
              "      <td>0.0</td>\n",
              "    </tr>\n",
              "    <tr>\n",
              "      <th>Aberdeen</th>\n",
              "      <td>0.0</td>\n",
              "      <td>0.0</td>\n",
              "    </tr>\n",
              "    <tr>\n",
              "      <th>Abilene</th>\n",
              "      <td>0.0</td>\n",
              "      <td>0.0</td>\n",
              "    </tr>\n",
              "    <tr>\n",
              "      <th>Abingdon</th>\n",
              "      <td>0.0</td>\n",
              "      <td>0.0</td>\n",
              "    </tr>\n",
              "    <tr>\n",
              "      <th>Abington</th>\n",
              "      <td>0.0</td>\n",
              "      <td>0.0</td>\n",
              "    </tr>\n",
              "  </tbody>\n",
              "</table>\n",
              "</div>"
            ],
            "text/plain": [
              "          PBI     \n",
              "          max  min\n",
              "CITY              \n",
              "ARTESIA   0.0  0.0\n",
              "Aberdeen  0.0  0.0\n",
              "Abilene   0.0  0.0\n",
              "Abingdon  0.0  0.0\n",
              "Abington  0.0  0.0"
            ]
          },
          "metadata": {
            "tags": []
          },
          "execution_count": 28
        }
      ]
    },
    {
      "cell_type": "markdown",
      "metadata": {
        "id": "eoHQ4yIRT0l9",
        "colab_type": "text"
      },
      "source": [
        ""
      ]
    },
    {
      "cell_type": "code",
      "metadata": {
        "id": "dv2eJG30RKAi",
        "colab_type": "code",
        "colab": {
          "base_uri": "https://localhost:8080/",
          "height": 204
        },
        "outputId": "089270ba-7c5e-4825-8daf-f3fddcb372b4"
      },
      "source": [
        "# flatten\n",
        "\n",
        "df = data.groupby('CITY').agg({'PBI':['max', 'min']}).head()\n",
        "df.columns = ['PBI_MAX', 'PBI_MIN'] # manually assign names\n",
        "df.reset_index()"
      ],
      "execution_count": 32,
      "outputs": [
        {
          "output_type": "execute_result",
          "data": {
            "text/html": [
              "<div>\n",
              "<style scoped>\n",
              "    .dataframe tbody tr th:only-of-type {\n",
              "        vertical-align: middle;\n",
              "    }\n",
              "\n",
              "    .dataframe tbody tr th {\n",
              "        vertical-align: top;\n",
              "    }\n",
              "\n",
              "    .dataframe thead th {\n",
              "        text-align: right;\n",
              "    }\n",
              "</style>\n",
              "<table border=\"1\" class=\"dataframe\">\n",
              "  <thead>\n",
              "    <tr style=\"text-align: right;\">\n",
              "      <th></th>\n",
              "      <th>CITY</th>\n",
              "      <th>PBI_MAX</th>\n",
              "      <th>PBI_MIN</th>\n",
              "    </tr>\n",
              "  </thead>\n",
              "  <tbody>\n",
              "    <tr>\n",
              "      <th>0</th>\n",
              "      <td>ARTESIA</td>\n",
              "      <td>0.0</td>\n",
              "      <td>0.0</td>\n",
              "    </tr>\n",
              "    <tr>\n",
              "      <th>1</th>\n",
              "      <td>Aberdeen</td>\n",
              "      <td>0.0</td>\n",
              "      <td>0.0</td>\n",
              "    </tr>\n",
              "    <tr>\n",
              "      <th>2</th>\n",
              "      <td>Abilene</td>\n",
              "      <td>0.0</td>\n",
              "      <td>0.0</td>\n",
              "    </tr>\n",
              "    <tr>\n",
              "      <th>3</th>\n",
              "      <td>Abingdon</td>\n",
              "      <td>0.0</td>\n",
              "      <td>0.0</td>\n",
              "    </tr>\n",
              "    <tr>\n",
              "      <th>4</th>\n",
              "      <td>Abington</td>\n",
              "      <td>0.0</td>\n",
              "      <td>0.0</td>\n",
              "    </tr>\n",
              "  </tbody>\n",
              "</table>\n",
              "</div>"
            ],
            "text/plain": [
              "       CITY  PBI_MAX  PBI_MIN\n",
              "0   ARTESIA      0.0      0.0\n",
              "1  Aberdeen      0.0      0.0\n",
              "2   Abilene      0.0      0.0\n",
              "3  Abingdon      0.0      0.0\n",
              "4  Abington      0.0      0.0"
            ]
          },
          "metadata": {
            "tags": []
          },
          "execution_count": 32
        }
      ]
    },
    {
      "cell_type": "markdown",
      "metadata": {
        "id": "lLTXla-YYU-A",
        "colab_type": "text"
      },
      "source": [
        "**Use pivot_table when comparing groups**\n",
        "- use pivot tables to compare values across groups and a groupby when want to continue an analysis. \n",
        "- Pivot tables as a finished product. The result of a groupby is going to be in tidy form, which lends itself to easier subsequent analysis, but isn’t as interpretable.\n",
        "- Use pivot_table over unstack or pivot"
      ]
    },
    {
      "cell_type": "code",
      "metadata": {
        "id": "psVwqsfXYUrS",
        "colab_type": "code",
        "colab": {
          "base_uri": "https://localhost:8080/",
          "height": 266
        },
        "outputId": "f36384d7-653d-4ffd-e20c-278916fd0327"
      },
      "source": [
        "data.groupby(['STABBR','CITY']).agg({'PBI':['max', 'min']}).head()"
      ],
      "execution_count": 33,
      "outputs": [
        {
          "output_type": "execute_result",
          "data": {
            "text/html": [
              "<div>\n",
              "<style scoped>\n",
              "    .dataframe tbody tr th:only-of-type {\n",
              "        vertical-align: middle;\n",
              "    }\n",
              "\n",
              "    .dataframe tbody tr th {\n",
              "        vertical-align: top;\n",
              "    }\n",
              "\n",
              "    .dataframe thead tr th {\n",
              "        text-align: left;\n",
              "    }\n",
              "\n",
              "    .dataframe thead tr:last-of-type th {\n",
              "        text-align: right;\n",
              "    }\n",
              "</style>\n",
              "<table border=\"1\" class=\"dataframe\">\n",
              "  <thead>\n",
              "    <tr>\n",
              "      <th></th>\n",
              "      <th></th>\n",
              "      <th colspan=\"2\" halign=\"left\">PBI</th>\n",
              "    </tr>\n",
              "    <tr>\n",
              "      <th></th>\n",
              "      <th></th>\n",
              "      <th>max</th>\n",
              "      <th>min</th>\n",
              "    </tr>\n",
              "    <tr>\n",
              "      <th>STABBR</th>\n",
              "      <th>CITY</th>\n",
              "      <th></th>\n",
              "      <th></th>\n",
              "    </tr>\n",
              "  </thead>\n",
              "  <tbody>\n",
              "    <tr>\n",
              "      <th rowspan=\"5\" valign=\"top\">AK</th>\n",
              "      <th>Anchorage</th>\n",
              "      <td>0.0</td>\n",
              "      <td>0.0</td>\n",
              "    </tr>\n",
              "    <tr>\n",
              "      <th>Barrow</th>\n",
              "      <td>0.0</td>\n",
              "      <td>0.0</td>\n",
              "    </tr>\n",
              "    <tr>\n",
              "      <th>Fairbanks</th>\n",
              "      <td>0.0</td>\n",
              "      <td>0.0</td>\n",
              "    </tr>\n",
              "    <tr>\n",
              "      <th>Juneau</th>\n",
              "      <td>0.0</td>\n",
              "      <td>0.0</td>\n",
              "    </tr>\n",
              "    <tr>\n",
              "      <th>Palmer</th>\n",
              "      <td>0.0</td>\n",
              "      <td>0.0</td>\n",
              "    </tr>\n",
              "  </tbody>\n",
              "</table>\n",
              "</div>"
            ],
            "text/plain": [
              "                  PBI     \n",
              "                  max  min\n",
              "STABBR CITY               \n",
              "AK     Anchorage  0.0  0.0\n",
              "       Barrow     0.0  0.0\n",
              "       Fairbanks  0.0  0.0\n",
              "       Juneau     0.0  0.0\n",
              "       Palmer     0.0  0.0"
            ]
          },
          "metadata": {
            "tags": []
          },
          "execution_count": 33
        }
      ]
    },
    {
      "cell_type": "code",
      "metadata": {
        "id": "2z2VJ735RMUW",
        "colab_type": "code",
        "colab": {
          "base_uri": "https://localhost:8080/",
          "height": 266
        },
        "outputId": "02f60969-387c-48ee-9d0f-58a9a1031ad4"
      },
      "source": [
        "data.pivot_table(index = ['STABBR', 'CITY'], values = 'PBI', aggfunc=['max','min']).head()"
      ],
      "execution_count": 36,
      "outputs": [
        {
          "output_type": "execute_result",
          "data": {
            "text/html": [
              "<div>\n",
              "<style scoped>\n",
              "    .dataframe tbody tr th:only-of-type {\n",
              "        vertical-align: middle;\n",
              "    }\n",
              "\n",
              "    .dataframe tbody tr th {\n",
              "        vertical-align: top;\n",
              "    }\n",
              "\n",
              "    .dataframe thead tr th {\n",
              "        text-align: left;\n",
              "    }\n",
              "\n",
              "    .dataframe thead tr:last-of-type th {\n",
              "        text-align: right;\n",
              "    }\n",
              "</style>\n",
              "<table border=\"1\" class=\"dataframe\">\n",
              "  <thead>\n",
              "    <tr>\n",
              "      <th></th>\n",
              "      <th></th>\n",
              "      <th>max</th>\n",
              "      <th>min</th>\n",
              "    </tr>\n",
              "    <tr>\n",
              "      <th></th>\n",
              "      <th></th>\n",
              "      <th>PBI</th>\n",
              "      <th>PBI</th>\n",
              "    </tr>\n",
              "    <tr>\n",
              "      <th>STABBR</th>\n",
              "      <th>CITY</th>\n",
              "      <th></th>\n",
              "      <th></th>\n",
              "    </tr>\n",
              "  </thead>\n",
              "  <tbody>\n",
              "    <tr>\n",
              "      <th rowspan=\"5\" valign=\"top\">AK</th>\n",
              "      <th>Anchorage</th>\n",
              "      <td>0.0</td>\n",
              "      <td>0.0</td>\n",
              "    </tr>\n",
              "    <tr>\n",
              "      <th>Barrow</th>\n",
              "      <td>0.0</td>\n",
              "      <td>0.0</td>\n",
              "    </tr>\n",
              "    <tr>\n",
              "      <th>Fairbanks</th>\n",
              "      <td>0.0</td>\n",
              "      <td>0.0</td>\n",
              "    </tr>\n",
              "    <tr>\n",
              "      <th>Juneau</th>\n",
              "      <td>0.0</td>\n",
              "      <td>0.0</td>\n",
              "    </tr>\n",
              "    <tr>\n",
              "      <th>Palmer</th>\n",
              "      <td>0.0</td>\n",
              "      <td>0.0</td>\n",
              "    </tr>\n",
              "  </tbody>\n",
              "</table>\n",
              "</div>"
            ],
            "text/plain": [
              "                  max  min\n",
              "                  PBI  PBI\n",
              "STABBR CITY               \n",
              "AK     Anchorage  0.0  0.0\n",
              "       Barrow     0.0  0.0\n",
              "       Fairbanks  0.0  0.0\n",
              "       Juneau     0.0  0.0\n",
              "       Palmer     0.0  0.0"
            ]
          },
          "metadata": {
            "tags": []
          },
          "execution_count": 36
        }
      ]
    },
    {
      "cell_type": "markdown",
      "metadata": {
        "id": "l-eJXXy_aF9Y",
        "colab_type": "text"
      },
      "source": [
        "**Use melt over stack because it allows you to rename columns and it avoids a MultiIndex**"
      ]
    },
    {
      "cell_type": "code",
      "metadata": {
        "id": "QybL__SyZKfv",
        "colab_type": "code",
        "colab": {
          "base_uri": "https://localhost:8080/",
          "height": 111
        },
        "outputId": "00b60a13-6f95-479b-c160-1e3b22c7d88d"
      },
      "source": [
        "data = data.loc[:, ['OPEID', 'CITY', 'HCM2', 'PBI']]\n",
        "data.head(2)"
      ],
      "execution_count": 41,
      "outputs": [
        {
          "output_type": "execute_result",
          "data": {
            "text/html": [
              "<div>\n",
              "<style scoped>\n",
              "    .dataframe tbody tr th:only-of-type {\n",
              "        vertical-align: middle;\n",
              "    }\n",
              "\n",
              "    .dataframe tbody tr th {\n",
              "        vertical-align: top;\n",
              "    }\n",
              "\n",
              "    .dataframe thead th {\n",
              "        text-align: right;\n",
              "    }\n",
              "</style>\n",
              "<table border=\"1\" class=\"dataframe\">\n",
              "  <thead>\n",
              "    <tr style=\"text-align: right;\">\n",
              "      <th></th>\n",
              "      <th>OPEID</th>\n",
              "      <th>CITY</th>\n",
              "      <th>HCM2</th>\n",
              "      <th>PBI</th>\n",
              "    </tr>\n",
              "  </thead>\n",
              "  <tbody>\n",
              "    <tr>\n",
              "      <th>0</th>\n",
              "      <td>100200</td>\n",
              "      <td>Normal</td>\n",
              "      <td>0</td>\n",
              "      <td>0.0</td>\n",
              "    </tr>\n",
              "    <tr>\n",
              "      <th>1</th>\n",
              "      <td>105200</td>\n",
              "      <td>Birmingham</td>\n",
              "      <td>0</td>\n",
              "      <td>0.0</td>\n",
              "    </tr>\n",
              "  </tbody>\n",
              "</table>\n",
              "</div>"
            ],
            "text/plain": [
              "    OPEID        CITY  HCM2  PBI\n",
              "0  100200      Normal     0  0.0\n",
              "1  105200  Birmingham     0  0.0"
            ]
          },
          "metadata": {
            "tags": []
          },
          "execution_count": 41
        }
      ]
    },
    {
      "cell_type": "code",
      "metadata": {
        "id": "D0PlKEoAawSG",
        "colab_type": "code",
        "colab": {
          "base_uri": "https://localhost:8080/",
          "height": 204
        },
        "outputId": "23d1e966-2d7b-4e27-f6e9-ea8da11b128b"
      },
      "source": [
        "data.melt(id_vars = ['CITY','OPEID'], var_name = 'measures', value_name = 'numbers' ).head() # could rename the column name"
      ],
      "execution_count": 47,
      "outputs": [
        {
          "output_type": "execute_result",
          "data": {
            "text/html": [
              "<div>\n",
              "<style scoped>\n",
              "    .dataframe tbody tr th:only-of-type {\n",
              "        vertical-align: middle;\n",
              "    }\n",
              "\n",
              "    .dataframe tbody tr th {\n",
              "        vertical-align: top;\n",
              "    }\n",
              "\n",
              "    .dataframe thead th {\n",
              "        text-align: right;\n",
              "    }\n",
              "</style>\n",
              "<table border=\"1\" class=\"dataframe\">\n",
              "  <thead>\n",
              "    <tr style=\"text-align: right;\">\n",
              "      <th></th>\n",
              "      <th>CITY</th>\n",
              "      <th>OPEID</th>\n",
              "      <th>measures</th>\n",
              "      <th>numbers</th>\n",
              "    </tr>\n",
              "  </thead>\n",
              "  <tbody>\n",
              "    <tr>\n",
              "      <th>0</th>\n",
              "      <td>Normal</td>\n",
              "      <td>100200</td>\n",
              "      <td>HCM2</td>\n",
              "      <td>0.0</td>\n",
              "    </tr>\n",
              "    <tr>\n",
              "      <th>1</th>\n",
              "      <td>Birmingham</td>\n",
              "      <td>105200</td>\n",
              "      <td>HCM2</td>\n",
              "      <td>0.0</td>\n",
              "    </tr>\n",
              "    <tr>\n",
              "      <th>2</th>\n",
              "      <td>Montgomery</td>\n",
              "      <td>2503400</td>\n",
              "      <td>HCM2</td>\n",
              "      <td>0.0</td>\n",
              "    </tr>\n",
              "    <tr>\n",
              "      <th>3</th>\n",
              "      <td>Huntsville</td>\n",
              "      <td>105500</td>\n",
              "      <td>HCM2</td>\n",
              "      <td>0.0</td>\n",
              "    </tr>\n",
              "    <tr>\n",
              "      <th>4</th>\n",
              "      <td>Montgomery</td>\n",
              "      <td>100500</td>\n",
              "      <td>HCM2</td>\n",
              "      <td>0.0</td>\n",
              "    </tr>\n",
              "  </tbody>\n",
              "</table>\n",
              "</div>"
            ],
            "text/plain": [
              "         CITY    OPEID measures  numbers\n",
              "0      Normal   100200     HCM2      0.0\n",
              "1  Birmingham   105200     HCM2      0.0\n",
              "2  Montgomery  2503400     HCM2      0.0\n",
              "3  Huntsville   105500     HCM2      0.0\n",
              "4  Montgomery   100500     HCM2      0.0"
            ]
          },
          "metadata": {
            "tags": []
          },
          "execution_count": 47
        }
      ]
    },
    {
      "cell_type": "code",
      "metadata": {
        "id": "Idx0py0FbeSk",
        "colab_type": "code",
        "colab": {
          "base_uri": "https://localhost:8080/",
          "height": 1000
        },
        "outputId": "92422cec-9939-429e-c38b-95dbc465443f"
      },
      "source": [
        "data.stack()"
      ],
      "execution_count": 48,
      "outputs": [
        {
          "output_type": "execute_result",
          "data": {
            "text/plain": [
              "0     OPEID              100200\n",
              "      CITY               Normal\n",
              "      HCM2                    0\n",
              "      PBI                     0\n",
              "1     OPEID              105200\n",
              "      CITY           Birmingham\n",
              "      HCM2                    0\n",
              "      PBI                     0\n",
              "2     OPEID             2503400\n",
              "      CITY           Montgomery\n",
              "      HCM2                    0\n",
              "      PBI                     0\n",
              "3     OPEID              105500\n",
              "      CITY           Huntsville\n",
              "      HCM2                    0\n",
              "      PBI                     0\n",
              "4     OPEID              100500\n",
              "      CITY           Montgomery\n",
              "      HCM2                    0\n",
              "      PBI                     0\n",
              "5     OPEID              105100\n",
              "      CITY           Tuscaloosa\n",
              "      HCM2                    0\n",
              "      PBI                     0\n",
              "6     OPEID              100700\n",
              "      CITY       Alexander City\n",
              "      HCM2                    0\n",
              "      PBI                     0\n",
              "7     OPEID              100800\n",
              "      CITY               Athens\n",
              "                     ...       \n",
              "7102  OPEID             4220901\n",
              "      CITY     Highland Heights\n",
              "      HCM2                    0\n",
              "7103  OPEID             4224601\n",
              "      CITY             Ambridge\n",
              "      HCM2                    0\n",
              "7104  OPEID              108131\n",
              "      CITY               Tucson\n",
              "      HCM2                    0\n",
              "7105  OPEID              108161\n",
              "      CITY     Lake Havasu City\n",
              "      HCM2                    0\n",
              "7106  OPEID              108162\n",
              "      CITY             Thatcher\n",
              "      HCM2                    0\n",
              "7107  OPEID              108163\n",
              "      CITY                 Yuma\n",
              "      HCM2                    0\n",
              "7108  OPEID             4223701\n",
              "      CITY             San Jose\n",
              "      HCM2                    0\n",
              "7109  OPEID             4228101\n",
              "      CITY            Lancaster\n",
              "      HCM2                    0\n",
              "7110  OPEID             4221501\n",
              "      CITY               Malden\n",
              "      HCM2                    0\n",
              "7111  OPEID             4182601\n",
              "      CITY     Lauderdale Lakes\n",
              "      HCM2                    0\n",
              "Length: 27923, dtype: object"
            ]
          },
          "metadata": {
            "tags": []
          },
          "execution_count": 48
        }
      ]
    },
    {
      "cell_type": "code",
      "metadata": {
        "id": "Unafs7Mdb5L-",
        "colab_type": "code",
        "colab": {}
      },
      "source": [
        ""
      ],
      "execution_count": 0,
      "outputs": []
    }
  ]
}
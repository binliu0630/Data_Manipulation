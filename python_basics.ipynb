{
  "nbformat": 4,
  "nbformat_minor": 0,
  "metadata": {
    "colab": {
      "name": "python_basics.ipynb",
      "version": "0.3.2",
      "provenance": [],
      "collapsed_sections": [
        "xADdVrDdQjG3",
        "0KBHRVKJtm91",
        "KS-WwsEXuuZG",
        "vplkhrLDvtvg",
        "nhkSvx2OxwU_"
      ],
      "include_colab_link": true
    },
    "kernelspec": {
      "name": "python3",
      "display_name": "Python 3"
    }
  },
  "cells": [
    {
      "cell_type": "markdown",
      "metadata": {
        "id": "view-in-github",
        "colab_type": "text"
      },
      "source": [
        "<a href=\"https://colab.research.google.com/github/smitaforward/Pandas/blob/master/python_basics.ipynb\" target=\"_parent\"><img src=\"https://colab.research.google.com/assets/colab-badge.svg\" alt=\"Open In Colab\"/></a>"
      ]
    },
    {
      "metadata": {
        "id": "xADdVrDdQjG3",
        "colab_type": "text"
      },
      "cell_type": "markdown",
      "source": [
        "# dic and zip Example"
      ]
    },
    {
      "metadata": {
        "id": "ypna-G-CQTvS",
        "colab_type": "code",
        "colab": {}
      },
      "cell_type": "code",
      "source": [
        "dic = {'name': ['Gus’s World Famous Fried Chicken',\n",
        "  'South City Kitchen - Midtown',\n",
        "  'Mary Mac’s Tea Room',\n",
        "  'Busy Bee Cafe',\n",
        "  'Richards’ Southern Fried',\n",
        "  'Greens & Gravy',\n",
        "  'Colonnade Restaurant',\n",
        "  'South City Kitchen Buckhead',\n",
        "  'Poor Calvin’s',\n",
        "  'Rock’s Chicken & Fries'],\n",
        "'numrevs': [549, 1777, 2241, 481, 108, 93, 350, 248, 1558, 67],\n",
        "'price': ['$$', '$$', '$$', '$$', '$$', '$$', '$$', '$$', '$$', '$'],\n",
        "'stars': ['4.0',\n",
        "  '4.5',\n",
        "  '4.0',\n",
        "  '4.0',\n",
        "  '4.0',\n",
        "  '3.5',\n",
        "  '4.0',\n",
        "  '4.5',\n",
        "  '4.5',\n",
        "  '4.0']}"
      ],
      "execution_count": 0,
      "outputs": []
    },
    {
      "metadata": {
        "id": "1CRZUWaaRu32",
        "colab_type": "code",
        "outputId": "b27bed56-51a8-4183-9926-3e1f4c502de8",
        "colab": {
          "base_uri": "https://localhost:8080/",
          "height": 34
        }
      },
      "cell_type": "code",
      "source": [
        "dic.keys()"
      ],
      "execution_count": 0,
      "outputs": [
        {
          "output_type": "execute_result",
          "data": {
            "text/plain": [
              "dict_keys(['name', 'numrevs', 'price', 'stars'])"
            ]
          },
          "metadata": {
            "tags": []
          },
          "execution_count": 11
        }
      ]
    },
    {
      "metadata": {
        "id": "tod2qDzrR98V",
        "colab_type": "code",
        "outputId": "8936f1ee-1633-438f-b113-26b4eeaa07e9",
        "colab": {
          "base_uri": "https://localhost:8080/",
          "height": 54
        }
      },
      "cell_type": "code",
      "source": [
        "dic.values()"
      ],
      "execution_count": 0,
      "outputs": [
        {
          "output_type": "execute_result",
          "data": {
            "text/plain": [
              "dict_values([['Gus’s World Famous Fried Chicken', 'South City Kitchen - Midtown', 'Mary Mac’s Tea Room', 'Busy Bee Cafe', 'Richards’ Southern Fried', 'Greens & Gravy', 'Colonnade Restaurant', 'South City Kitchen Buckhead', 'Poor Calvin’s', 'Rock’s Chicken & Fries'], [549, 1777, 2241, 481, 108, 93, 350, 248, 1558, 67], ['$$', '$$', '$$', '$$', '$$', '$$', '$$', '$$', '$$', '$'], ['4.0', '4.5', '4.0', '4.0', '4.0', '3.5', '4.0', '4.5', '4.5', '4.0']])"
            ]
          },
          "metadata": {
            "tags": []
          },
          "execution_count": 12
        }
      ]
    },
    {
      "metadata": {
        "id": "vjhvlW5KST43",
        "colab_type": "code",
        "outputId": "b5c083d1-e7c1-4c8d-f51f-cc92d7c62a5d",
        "colab": {
          "base_uri": "https://localhost:8080/",
          "height": 187
        }
      },
      "cell_type": "code",
      "source": [
        "for v in zip(*dic.values()):\n",
        "  print(v)"
      ],
      "execution_count": 0,
      "outputs": [
        {
          "output_type": "stream",
          "text": [
            "('Gus’s World Famous Fried Chicken', 549, '$$', '4.0')\n",
            "('South City Kitchen - Midtown', 1777, '$$', '4.5')\n",
            "('Mary Mac’s Tea Room', 2241, '$$', '4.0')\n",
            "('Busy Bee Cafe', 481, '$$', '4.0')\n",
            "('Richards’ Southern Fried', 108, '$$', '4.0')\n",
            "('Greens & Gravy', 93, '$$', '3.5')\n",
            "('Colonnade Restaurant', 350, '$$', '4.0')\n",
            "('South City Kitchen Buckhead', 248, '$$', '4.5')\n",
            "('Poor Calvin’s', 1558, '$$', '4.5')\n",
            "('Rock’s Chicken & Fries', 67, '$', '4.0')\n"
          ],
          "name": "stdout"
        }
      ]
    },
    {
      "metadata": {
        "id": "P3ESQOzmQ1M3",
        "colab_type": "code",
        "outputId": "07a129a0-b78b-4793-ae46-0e55c03f12d7",
        "colab": {
          "base_uri": "https://localhost:8080/",
          "height": 544
        }
      },
      "cell_type": "code",
      "source": [
        "[dict(zip(dic.keys(), v)) for v in zip(*dic.values())]"
      ],
      "execution_count": 0,
      "outputs": [
        {
          "output_type": "execute_result",
          "data": {
            "text/plain": [
              "[{'name': 'Gus’s World Famous Fried Chicken',\n",
              "  'numrevs': 549,\n",
              "  'price': '$$',\n",
              "  'stars': '4.0'},\n",
              " {'name': 'South City Kitchen - Midtown',\n",
              "  'numrevs': 1777,\n",
              "  'price': '$$',\n",
              "  'stars': '4.5'},\n",
              " {'name': 'Mary Mac’s Tea Room',\n",
              "  'numrevs': 2241,\n",
              "  'price': '$$',\n",
              "  'stars': '4.0'},\n",
              " {'name': 'Busy Bee Cafe', 'numrevs': 481, 'price': '$$', 'stars': '4.0'},\n",
              " {'name': 'Richards’ Southern Fried',\n",
              "  'numrevs': 108,\n",
              "  'price': '$$',\n",
              "  'stars': '4.0'},\n",
              " {'name': 'Greens & Gravy', 'numrevs': 93, 'price': '$$', 'stars': '3.5'},\n",
              " {'name': 'Colonnade Restaurant',\n",
              "  'numrevs': 350,\n",
              "  'price': '$$',\n",
              "  'stars': '4.0'},\n",
              " {'name': 'South City Kitchen Buckhead',\n",
              "  'numrevs': 248,\n",
              "  'price': '$$',\n",
              "  'stars': '4.5'},\n",
              " {'name': 'Poor Calvin’s', 'numrevs': 1558, 'price': '$$', 'stars': '4.5'},\n",
              " {'name': 'Rock’s Chicken & Fries',\n",
              "  'numrevs': 67,\n",
              "  'price': '$',\n",
              "  'stars': '4.0'}]"
            ]
          },
          "metadata": {
            "tags": []
          },
          "execution_count": 16
        }
      ]
    },
    {
      "metadata": {
        "id": "0KBHRVKJtm91",
        "colab_type": "text"
      },
      "cell_type": "markdown",
      "source": [
        "# Keywords in python"
      ]
    },
    {
      "metadata": {
        "id": "ZgAUgXS7tqqr",
        "colab_type": "code",
        "colab": {}
      },
      "cell_type": "code",
      "source": [
        "import keyword"
      ],
      "execution_count": 0,
      "outputs": []
    },
    {
      "metadata": {
        "id": "p7QjS4bstuga",
        "colab_type": "code",
        "outputId": "68d966cb-9177-4fcc-99de-df8112e3702f",
        "colab": {
          "base_uri": "https://localhost:8080/",
          "height": 54
        }
      },
      "cell_type": "code",
      "source": [
        "print(keyword.kwlist)"
      ],
      "execution_count": 0,
      "outputs": [
        {
          "output_type": "stream",
          "text": [
            "['False', 'None', 'True', 'and', 'as', 'assert', 'break', 'class', 'continue', 'def', 'del', 'elif', 'else', 'except', 'finally', 'for', 'from', 'global', 'if', 'import', 'in', 'is', 'lambda', 'nonlocal', 'not', 'or', 'pass', 'raise', 'return', 'try', 'while', 'with', 'yield']\n"
          ],
          "name": "stdout"
        }
      ]
    },
    {
      "metadata": {
        "id": "n_ZOqdettz9C",
        "colab_type": "code",
        "outputId": "b6589e0e-3bea-4fac-d64e-9b36da05c491",
        "colab": {
          "base_uri": "https://localhost:8080/",
          "height": 34
        }
      },
      "cell_type": "code",
      "source": [
        "keyword.iskeyword('as')"
      ],
      "execution_count": 0,
      "outputs": [
        {
          "output_type": "execute_result",
          "data": {
            "text/plain": [
              "True"
            ]
          },
          "metadata": {
            "tags": []
          },
          "execution_count": 4
        }
      ]
    },
    {
      "metadata": {
        "id": "yYeJn_xauFlv",
        "colab_type": "text"
      },
      "cell_type": "markdown",
      "source": [
        "# None, 0, empty container\n",
        "\n",
        "None used to denote a null value or a void. \n",
        "0, any empty container(e.g empty list) do not compute to None.\n",
        "It is an object of its own datatype – NoneType. \n",
        "It is not possible to create multiple None objects.\n",
        "It can be assigned to variables.\n"
      ]
    },
    {
      "metadata": {
        "id": "zGfB4rbWufFf",
        "colab_type": "code",
        "outputId": "5dde2acd-0b40-402f-be91-35af076d4eb9",
        "colab": {
          "base_uri": "https://localhost:8080/",
          "height": 34
        }
      },
      "cell_type": "code",
      "source": [
        "print(None == 0)"
      ],
      "execution_count": 0,
      "outputs": [
        {
          "output_type": "stream",
          "text": [
            "False\n"
          ],
          "name": "stdout"
        }
      ]
    },
    {
      "metadata": {
        "id": "csncqxJ8uiNf",
        "colab_type": "code",
        "outputId": "51f73dc4-b7f7-43d8-f5e6-00625b736c1a",
        "colab": {
          "base_uri": "https://localhost:8080/",
          "height": 34
        }
      },
      "cell_type": "code",
      "source": [
        "print(None == [])"
      ],
      "execution_count": 0,
      "outputs": [
        {
          "output_type": "stream",
          "text": [
            "False\n"
          ],
          "name": "stdout"
        }
      ]
    },
    {
      "metadata": {
        "id": "h-vqL7YwukcH",
        "colab_type": "code",
        "outputId": "4efb7b64-7600-428d-e577-03645881127a",
        "colab": {
          "base_uri": "https://localhost:8080/",
          "height": 34
        }
      },
      "cell_type": "code",
      "source": [
        "x = None\n",
        "y = None\n",
        "x == y"
      ],
      "execution_count": 0,
      "outputs": [
        {
          "output_type": "execute_result",
          "data": {
            "text/plain": [
              "True"
            ]
          },
          "metadata": {
            "tags": []
          },
          "execution_count": 10
        }
      ]
    },
    {
      "metadata": {
        "id": "KS-WwsEXuuZG",
        "colab_type": "text"
      },
      "cell_type": "markdown",
      "source": [
        "# del(), assert()"
      ]
    },
    {
      "metadata": {
        "id": "C4cXnrsKuyOU",
        "colab_type": "code",
        "outputId": "6553f9bb-267c-495d-8588-112214f14a48",
        "colab": {
          "base_uri": "https://localhost:8080/",
          "height": 34
        }
      },
      "cell_type": "code",
      "source": [
        "a = [1, 2, 3]\n",
        "del a[1]\n",
        "a"
      ],
      "execution_count": 0,
      "outputs": [
        {
          "output_type": "execute_result",
          "data": {
            "text/plain": [
              "[1, 3]"
            ]
          },
          "metadata": {
            "tags": []
          },
          "execution_count": 11
        }
      ]
    },
    {
      "metadata": {
        "id": "J0YqCgHzvDg4",
        "colab_type": "code",
        "outputId": "b19503da-14b3-466d-8b8c-2d74d9d73eed",
        "colab": {
          "base_uri": "https://localhost:8080/",
          "height": 164
        }
      },
      "cell_type": "code",
      "source": [
        "# raise error message\n",
        "assert(3 > 4), '3 is not larger than 4 '"
      ],
      "execution_count": 0,
      "outputs": [
        {
          "output_type": "error",
          "ename": "AssertionError",
          "evalue": "ignored",
          "traceback": [
            "\u001b[0;31m---------------------------------------------------------------------------\u001b[0m",
            "\u001b[0;31mAssertionError\u001b[0m                            Traceback (most recent call last)",
            "\u001b[0;32m<ipython-input-13-47d75b0c9819>\u001b[0m in \u001b[0;36m<module>\u001b[0;34m()\u001b[0m\n\u001b[0;32m----> 1\u001b[0;31m \u001b[0;32massert\u001b[0m\u001b[0;34m(\u001b[0m\u001b[0;36m3\u001b[0m \u001b[0;34m>\u001b[0m \u001b[0;36m4\u001b[0m\u001b[0;34m)\u001b[0m\u001b[0;34m,\u001b[0m \u001b[0;34m'3 is not larger than 4 '\u001b[0m\u001b[0;34m\u001b[0m\u001b[0m\n\u001b[0m",
            "\u001b[0;31mAssertionError\u001b[0m: 3 is not larger than 4 "
          ]
        }
      ]
    },
    {
      "metadata": {
        "id": "vplkhrLDvtvg",
        "colab_type": "text"
      },
      "cell_type": "markdown",
      "source": [
        "# return vs. yield\n",
        "\n",
        "Return sends a specified value back to its caller whereas Yield can produce a sequence of values. We should use yield when we want to iterate over a sequence, but don’t want to store the entire sequence in memory."
      ]
    },
    {
      "metadata": {
        "id": "cmUGqLhkv-pO",
        "colab_type": "code",
        "outputId": "b3fd4700-6c96-46ef-df26-98bf88fff843",
        "colab": {
          "base_uri": "https://localhost:8080/",
          "height": 187
        }
      },
      "cell_type": "code",
      "source": [
        "# A Python program to generate squares from 1to 100 using yield and therefore generator An infinite generator function that prints next square number. It starts with 1\n",
        "\n",
        "def nextSquare():\n",
        "  i = 1\n",
        "  while True:\n",
        "    yield i*i\n",
        "    i += 1\n",
        "    \n",
        "for num in nextSquare():\n",
        "  if num > 100:\n",
        "    break\n",
        "  print(num)\n",
        "\n",
        "\n"
      ],
      "execution_count": 0,
      "outputs": [
        {
          "output_type": "stream",
          "text": [
            "1\n",
            "4\n",
            "9\n",
            "16\n",
            "25\n",
            "36\n",
            "49\n",
            "64\n",
            "81\n",
            "100\n"
          ],
          "name": "stdout"
        }
      ]
    },
    {
      "metadata": {
        "id": "nhkSvx2OxwU_",
        "colab_type": "text"
      },
      "cell_type": "markdown",
      "source": [
        "# List Comprehension"
      ]
    },
    {
      "metadata": {
        "id": "j-ZbkKFgxyWf",
        "colab_type": "code",
        "outputId": "5d9e12b5-7ea3-4b2a-815a-59b7f81c679f",
        "colab": {
          "base_uri": "https://localhost:8080/",
          "height": 34
        }
      },
      "cell_type": "code",
      "source": [
        "m = [[1,2],[3,4],[5,6]]\n",
        "m"
      ],
      "execution_count": 0,
      "outputs": [
        {
          "output_type": "execute_result",
          "data": {
            "text/plain": [
              "[[1, 2], [3, 4], [5, 6]]"
            ]
          },
          "metadata": {
            "tags": []
          },
          "execution_count": 22
        }
      ]
    },
    {
      "metadata": {
        "id": "Rbwz_reFx5W-",
        "colab_type": "code",
        "outputId": "be1b86a7-7615-48cf-802e-fe6c4e39b343",
        "colab": {
          "base_uri": "https://localhost:8080/",
          "height": 34
        }
      },
      "cell_type": "code",
      "source": [
        "# transpose m\n",
        "[[m[i][j] for i in range(len(m))] for j in range(len(m[0]))]"
      ],
      "execution_count": 0,
      "outputs": [
        {
          "output_type": "execute_result",
          "data": {
            "text/plain": [
              "[[1, 3, 5], [2, 4, 6]]"
            ]
          },
          "metadata": {
            "tags": []
          },
          "execution_count": 29
        }
      ]
    },
    {
      "metadata": {
        "id": "0Q4NbbHkyOn5",
        "colab_type": "code",
        "outputId": "4961694f-7df0-4d05-f722-f61c0d59ec21",
        "colab": {
          "base_uri": "https://localhost:8080/",
          "height": 34
        }
      },
      "cell_type": "code",
      "source": [
        "len(m)"
      ],
      "execution_count": 0,
      "outputs": [
        {
          "output_type": "execute_result",
          "data": {
            "text/plain": [
              "3"
            ]
          },
          "metadata": {
            "tags": []
          },
          "execution_count": 28
        }
      ]
    },
    {
      "metadata": {
        "id": "Qzao7B1ly32g",
        "colab_type": "code",
        "colab": {}
      },
      "cell_type": "code",
      "source": [
        ""
      ],
      "execution_count": 0,
      "outputs": []
    },
    {
      "metadata": {
        "id": "X1LJ9qMt0UEh",
        "colab_type": "text"
      },
      "cell_type": "markdown",
      "source": [
        "# file operation with os and glob modual"
      ]
    },
    {
      "metadata": {
        "id": "cQ--1_Dc0Wad",
        "colab_type": "code",
        "colab": {}
      },
      "cell_type": "code",
      "source": [
        "import os\n",
        "import glob"
      ],
      "execution_count": 0,
      "outputs": []
    },
    {
      "metadata": {
        "id": "li35iNmf05Lu",
        "colab_type": "code",
        "outputId": "a26b3af9-5d3f-44e8-a6ba-ced4c96a246f",
        "colab": {
          "base_uri": "https://localhost:8080/",
          "height": 952
        }
      },
      "cell_type": "code",
      "source": [
        "# look at all the avaialbe methods\n",
        "dir(os.path)"
      ],
      "execution_count": 0,
      "outputs": [
        {
          "output_type": "execute_result",
          "data": {
            "text/plain": [
              "['__all__',\n",
              " '__builtins__',\n",
              " '__cached__',\n",
              " '__doc__',\n",
              " '__file__',\n",
              " '__loader__',\n",
              " '__name__',\n",
              " '__package__',\n",
              " '__spec__',\n",
              " '_get_sep',\n",
              " '_joinrealpath',\n",
              " '_varprog',\n",
              " '_varprogb',\n",
              " 'abspath',\n",
              " 'altsep',\n",
              " 'basename',\n",
              " 'commonpath',\n",
              " 'commonprefix',\n",
              " 'curdir',\n",
              " 'defpath',\n",
              " 'devnull',\n",
              " 'dirname',\n",
              " 'exists',\n",
              " 'expanduser',\n",
              " 'expandvars',\n",
              " 'extsep',\n",
              " 'genericpath',\n",
              " 'getatime',\n",
              " 'getctime',\n",
              " 'getmtime',\n",
              " 'getsize',\n",
              " 'isabs',\n",
              " 'isdir',\n",
              " 'isfile',\n",
              " 'islink',\n",
              " 'ismount',\n",
              " 'join',\n",
              " 'lexists',\n",
              " 'normcase',\n",
              " 'normpath',\n",
              " 'os',\n",
              " 'pardir',\n",
              " 'pathsep',\n",
              " 'realpath',\n",
              " 'relpath',\n",
              " 'samefile',\n",
              " 'sameopenfile',\n",
              " 'samestat',\n",
              " 'sep',\n",
              " 'split',\n",
              " 'splitdrive',\n",
              " 'splitext',\n",
              " 'stat',\n",
              " 'supports_unicode_filenames',\n",
              " 'sys']"
            ]
          },
          "metadata": {
            "tags": []
          },
          "execution_count": 33
        }
      ]
    },
    {
      "metadata": {
        "id": "HQ-vXcCD1Cnb",
        "colab_type": "code",
        "outputId": "3aac2234-4ac0-4ed6-d0ab-dc89975911b3",
        "colab": {
          "base_uri": "https://localhost:8080/",
          "height": 34
        }
      },
      "cell_type": "code",
      "source": [
        "os.getcwd()"
      ],
      "execution_count": 0,
      "outputs": [
        {
          "output_type": "execute_result",
          "data": {
            "text/plain": [
              "'/content'"
            ]
          },
          "metadata": {
            "tags": []
          },
          "execution_count": 34
        }
      ]
    },
    {
      "metadata": {
        "id": "taqYXVFL1TqB",
        "colab_type": "code",
        "outputId": "1ad8823e-9b65-4872-c26f-43a61f566283",
        "colab": {
          "base_uri": "https://localhost:8080/",
          "height": 34
        }
      },
      "cell_type": "code",
      "source": [
        "os.listdir()"
      ],
      "execution_count": 0,
      "outputs": [
        {
          "output_type": "execute_result",
          "data": {
            "text/plain": [
              "['datalab', '.cache', '.forever', '.ipython', '.config', '.rnd', '.local']"
            ]
          },
          "metadata": {
            "tags": []
          },
          "execution_count": 35
        }
      ]
    },
    {
      "metadata": {
        "id": "rUHRxrHW1WGp",
        "colab_type": "code",
        "colab": {}
      },
      "cell_type": "code",
      "source": [
        "os.chdir('/content')"
      ],
      "execution_count": 0,
      "outputs": []
    },
    {
      "metadata": {
        "id": "W3MS1pc82NbC",
        "colab_type": "code",
        "colab": {}
      },
      "cell_type": "code",
      "source": [
        "os.mkdir('test')"
      ],
      "execution_count": 0,
      "outputs": []
    },
    {
      "metadata": {
        "id": "WGAoWrr42bdX",
        "colab_type": "code",
        "colab": {}
      },
      "cell_type": "code",
      "source": [
        "os.makedirs('test/test2') # make multiple level of directories"
      ],
      "execution_count": 0,
      "outputs": []
    },
    {
      "metadata": {
        "id": "aEPRv2ay2h_3",
        "colab_type": "code",
        "outputId": "46677909-bb85-4b77-d19f-4a28d94d72ce",
        "colab": {
          "base_uri": "https://localhost:8080/",
          "height": 34
        }
      },
      "cell_type": "code",
      "source": [
        "os.listdir('test/test2')"
      ],
      "execution_count": 0,
      "outputs": [
        {
          "output_type": "execute_result",
          "data": {
            "text/plain": [
              "[]"
            ]
          },
          "metadata": {
            "tags": []
          },
          "execution_count": 46
        }
      ]
    },
    {
      "metadata": {
        "id": "BYl7x9Fs3TqA",
        "colab_type": "code",
        "colab": {}
      },
      "cell_type": "code",
      "source": [
        "os.rename('test', 'testtest')"
      ],
      "execution_count": 0,
      "outputs": []
    },
    {
      "metadata": {
        "id": "unNaZvst3fZo",
        "colab_type": "code",
        "colab": {}
      },
      "cell_type": "code",
      "source": [
        "os.rmdir('testtest/test') # remove only subdirectory 'test'"
      ],
      "execution_count": 0,
      "outputs": []
    },
    {
      "metadata": {
        "id": "0QEOVUFQ2pwm",
        "colab_type": "code",
        "outputId": "7477bc60-ab1b-40cd-aefc-870098be8fb0",
        "colab": {
          "base_uri": "https://localhost:8080/",
          "height": 34
        }
      },
      "cell_type": "code",
      "source": [
        "glob.glob('testtest/*es*') # list the file which include 'es'"
      ],
      "execution_count": 0,
      "outputs": [
        {
          "output_type": "execute_result",
          "data": {
            "text/plain": [
              "['testtest/test2']"
            ]
          },
          "metadata": {
            "tags": []
          },
          "execution_count": 58
        }
      ]
    },
    {
      "metadata": {
        "id": "xIySFHq-20PN",
        "colab_type": "code",
        "colab": {}
      },
      "cell_type": "code",
      "source": [
        "os.removedirs('testtest/test2') # remove multiple layer of diretories both testtest/test2"
      ],
      "execution_count": 0,
      "outputs": []
    },
    {
      "metadata": {
        "id": "Anmz3uKP49JE",
        "colab_type": "code",
        "outputId": "8cd056d3-4e50-42e7-f86f-36ef2d5f812c",
        "colab": {
          "base_uri": "https://localhost:8080/",
          "height": 34
        }
      },
      "cell_type": "code",
      "source": [
        "glob.glob('*')"
      ],
      "execution_count": 0,
      "outputs": [
        {
          "output_type": "execute_result",
          "data": {
            "text/plain": [
              "['datalab']"
            ]
          },
          "metadata": {
            "tags": []
          },
          "execution_count": 66
        }
      ]
    },
    {
      "metadata": {
        "id": "wUVvorBz5Xys",
        "colab_type": "code",
        "outputId": "7bbea3f1-576e-463c-b8d5-1e01c9eff583",
        "colab": {
          "base_uri": "https://localhost:8080/",
          "height": 54
        }
      },
      "cell_type": "code",
      "source": [
        "os.stat('datalab') # all the stats of 'datalab'"
      ],
      "execution_count": 0,
      "outputs": [
        {
          "output_type": "execute_result",
          "data": {
            "text/plain": [
              "os.stat_result(st_mode=16877, st_ino=57273, st_dev=42, st_nlink=1, st_uid=0, st_gid=0, st_size=4096, st_atime=1519054411, st_mtime=1518462240, st_ctime=1519054569)"
            ]
          },
          "metadata": {
            "tags": []
          },
          "execution_count": 67
        }
      ]
    },
    {
      "metadata": {
        "id": "pctLTZ0C6th1",
        "colab_type": "code",
        "outputId": "e1782eb8-47ac-4d59-a73a-8cbcb31786ad",
        "colab": {
          "base_uri": "https://localhost:8080/",
          "height": 34
        }
      },
      "cell_type": "code",
      "source": [
        "os.stat('datalab').st_size # file size"
      ],
      "execution_count": 0,
      "outputs": [
        {
          "output_type": "execute_result",
          "data": {
            "text/plain": [
              "4096"
            ]
          },
          "metadata": {
            "tags": []
          },
          "execution_count": 69
        }
      ]
    },
    {
      "metadata": {
        "id": "1GIyfPuv60vd",
        "colab_type": "code",
        "outputId": "90ad4f31-eda6-43fb-80b3-909e0594de7b",
        "colab": {
          "base_uri": "https://localhost:8080/",
          "height": 34
        }
      },
      "cell_type": "code",
      "source": [
        "from datetime import datetime \n",
        "\n",
        "print(datetime.fromtimestamp(os.stat('datalab').st_mtime)) # print out the last modify time stample in a readable format"
      ],
      "execution_count": 0,
      "outputs": [
        {
          "output_type": "stream",
          "text": [
            "2018-02-12 19:04:00\n"
          ],
          "name": "stdout"
        }
      ]
    },
    {
      "metadata": {
        "id": "BRLnS1ns7j8l",
        "colab_type": "code",
        "colab": {}
      },
      "cell_type": "code",
      "source": [
        "os.makedirs('TEST/TEST1')"
      ],
      "execution_count": 0,
      "outputs": []
    },
    {
      "metadata": {
        "id": "BymylPiI8aAm",
        "colab_type": "code",
        "colab": {}
      },
      "cell_type": "code",
      "source": [
        "os.makedirs('TEST/TEST2')"
      ],
      "execution_count": 0,
      "outputs": []
    },
    {
      "metadata": {
        "id": "W4EMk02c8dSt",
        "colab_type": "code",
        "outputId": "3facac47-75fb-4dcc-c07e-8206b312fc6a",
        "colab": {
          "base_uri": "https://localhost:8080/",
          "height": 34
        }
      },
      "cell_type": "code",
      "source": [
        "glob.glob('TEST/*')"
      ],
      "execution_count": 0,
      "outputs": [
        {
          "output_type": "execute_result",
          "data": {
            "text/plain": [
              "['TEST/TEST2', 'TEST/TEST1']"
            ]
          },
          "metadata": {
            "tags": []
          },
          "execution_count": 78
        }
      ]
    },
    {
      "metadata": {
        "id": "ysknpVrW8kRl",
        "colab_type": "code",
        "outputId": "f90899f5-967a-4906-e852-3630bdeb6d1b",
        "colab": {
          "base_uri": "https://localhost:8080/",
          "height": 68
        }
      },
      "cell_type": "code",
      "source": [
        "for dirpath, dirnames, filenames in os.walk('TEST'):\n",
        "  print('path: {} include: dirnames {} and filenames {}'.format(dirpath, dirnames, filenames))\n",
        "  "
      ],
      "execution_count": 0,
      "outputs": [
        {
          "output_type": "stream",
          "text": [
            "path: TEST include: dirnames ['TEST2', 'TEST1'] and filenames []\n",
            "path: TEST/TEST2 include: dirnames [] and filenames []\n",
            "path: TEST/TEST1 include: dirnames [] and filenames []\n"
          ],
          "name": "stdout"
        }
      ]
    },
    {
      "metadata": {
        "id": "Z9wwt4ek8uP7",
        "colab_type": "code",
        "outputId": "97b3aecc-5b79-42a4-dd1e-a7493d2139ca",
        "colab": {
          "base_uri": "https://localhost:8080/",
          "height": 54
        }
      },
      "cell_type": "code",
      "source": [
        "os.environ # environment"
      ],
      "execution_count": 0,
      "outputs": [
        {
          "output_type": "execute_result",
          "data": {
            "text/plain": [
              "environ({'LANG': 'en_US.UTF-8', 'DATALAB_DEBUG': 'true', 'SHELL': '/bin/bash', 'LD_PRELOAD': '/usr/lib/x86_64-linux-gnu/libtcmalloc.so.4', 'JPY_PARENT_PID': '86', 'SHLVL': '1', 'PYTHONPATH': '/env/python', 'OLDPWD': '/', 'HOSTNAME': 'e9de2e705023', 'CLOUDSDK_CONFIG': '/content/datalab/.config', 'DATALAB_ENV': 'GCE', 'DATALAB_SETTINGS_OVERRIDES': '{\"datalabBasePath\": \"/tun/m/m-bc987b7b-8efd-4e20-848c-ec9f36489a11/\", \"proxyWebSockets\": \"true\", \"idleTimeoutInterval\": \"0\", \"consoleLogLevel\": \"debug\"}', 'PATH': '/usr/local/bin:/usr/local/sbin:/usr/local/bin:/usr/sbin:/usr/bin:/sbin:/bin:/tools/node/bin:/tools/google-cloud-sdk/bin:/usr/local/lib/python3.6/dist-packages/numpy/.libs', 'PWD': '/', 'GLIBCPP_FORCE_NEW': '1', 'ENV': '/root/.bashrc', 'DEBIAN_FRONTEND': 'noninteractive', 'GLIBCXX_FORCE_NEW': '1', 'HOME': '/content', '_': '/tools/node/bin/forever', 'TERM': 'xterm-color', 'CLICOLOR': '1', 'PAGER': 'cat', 'GIT_PAGER': 'cat', 'MPLBACKEND': 'module://ipykernel.pylab.backend_inline'})"
            ]
          },
          "metadata": {
            "tags": []
          },
          "execution_count": 84
        }
      ]
    },
    {
      "metadata": {
        "id": "bOqpkdf39u_W",
        "colab_type": "code",
        "outputId": "3752adc6-2572-4871-e81f-c5def21a2725",
        "colab": {
          "base_uri": "https://localhost:8080/",
          "height": 34
        }
      },
      "cell_type": "code",
      "source": [
        "print(os.environ.get('HOME')) # get the home directory"
      ],
      "execution_count": 0,
      "outputs": [
        {
          "output_type": "stream",
          "text": [
            "/content\n"
          ],
          "name": "stdout"
        }
      ]
    },
    {
      "metadata": {
        "id": "Lz7wgOP89zFG",
        "colab_type": "code",
        "outputId": "900ce0ae-b900-42a2-d18a-22542f91a831",
        "colab": {
          "base_uri": "https://localhost:8080/",
          "height": 34
        }
      },
      "cell_type": "code",
      "source": [
        "filepath = os.path.join(os.environ.get('HOME'), 'TEST')\n",
        "filepath"
      ],
      "execution_count": 0,
      "outputs": [
        {
          "output_type": "execute_result",
          "data": {
            "text/plain": [
              "'/content/TEST'"
            ]
          },
          "metadata": {
            "tags": []
          },
          "execution_count": 90
        }
      ]
    },
    {
      "metadata": {
        "id": "hAywAKM3-HUW",
        "colab_type": "code",
        "outputId": "8c7e7d16-713a-45fc-f809-358d1bf46838",
        "colab": {
          "base_uri": "https://localhost:8080/",
          "height": 34
        }
      },
      "cell_type": "code",
      "source": [
        "os.path.basename(filepath)"
      ],
      "execution_count": 0,
      "outputs": [
        {
          "output_type": "execute_result",
          "data": {
            "text/plain": [
              "'TEST'"
            ]
          },
          "metadata": {
            "tags": []
          },
          "execution_count": 92
        }
      ]
    },
    {
      "metadata": {
        "id": "kaGUbX9g-XVO",
        "colab_type": "code",
        "outputId": "a019a565-3354-49a5-95f1-6ccb223e1289",
        "colab": {
          "base_uri": "https://localhost:8080/",
          "height": 34
        }
      },
      "cell_type": "code",
      "source": [
        "os.path.dirname(filepath)"
      ],
      "execution_count": 0,
      "outputs": [
        {
          "output_type": "execute_result",
          "data": {
            "text/plain": [
              "'/content'"
            ]
          },
          "metadata": {
            "tags": []
          },
          "execution_count": 93
        }
      ]
    },
    {
      "metadata": {
        "id": "zHVT5EsJ-jIC",
        "colab_type": "code",
        "outputId": "12176d96-c272-4e34-f9f3-ebfa859c5f2d",
        "colab": {
          "base_uri": "https://localhost:8080/",
          "height": 34
        }
      },
      "cell_type": "code",
      "source": [
        "os.path.split(filepath) # split to directory name and basename"
      ],
      "execution_count": 0,
      "outputs": [
        {
          "output_type": "execute_result",
          "data": {
            "text/plain": [
              "('/content', 'TEST')"
            ]
          },
          "metadata": {
            "tags": []
          },
          "execution_count": 95
        }
      ]
    },
    {
      "metadata": {
        "id": "W97Z5KLp-pB5",
        "colab_type": "code",
        "outputId": "aecfb6e6-8139-4130-ff23-3e88e9168a38",
        "colab": {
          "base_uri": "https://localhost:8080/",
          "height": 34
        }
      },
      "cell_type": "code",
      "source": [
        "os.path.isdir(filepath)"
      ],
      "execution_count": 0,
      "outputs": [
        {
          "output_type": "execute_result",
          "data": {
            "text/plain": [
              "True"
            ]
          },
          "metadata": {
            "tags": []
          },
          "execution_count": 96
        }
      ]
    },
    {
      "metadata": {
        "id": "3PQt4IX0-3mH",
        "colab_type": "code",
        "outputId": "78688561-d471-4f89-f83c-835facf27d44",
        "colab": {
          "base_uri": "https://localhost:8080/",
          "height": 34
        }
      },
      "cell_type": "code",
      "source": [
        "os.path.isfile(filepath)"
      ],
      "execution_count": 0,
      "outputs": [
        {
          "output_type": "execute_result",
          "data": {
            "text/plain": [
              "False"
            ]
          },
          "metadata": {
            "tags": []
          },
          "execution_count": 97
        }
      ]
    },
    {
      "metadata": {
        "id": "6w53cg23-5Lm",
        "colab_type": "code",
        "outputId": "00f4c9d0-0910-497e-ad1a-ad1183d8e0c7",
        "colab": {
          "base_uri": "https://localhost:8080/",
          "height": 34
        }
      },
      "cell_type": "code",
      "source": [
        "os.path.splitext('tmp/test.txt') # split the file extention from path"
      ],
      "execution_count": 0,
      "outputs": [
        {
          "output_type": "execute_result",
          "data": {
            "text/plain": [
              "('tmp/test', '.txt')"
            ]
          },
          "metadata": {
            "tags": []
          },
          "execution_count": 100
        }
      ]
    },
    {
      "metadata": {
        "id": "z2GET9pw-899",
        "colab_type": "code",
        "outputId": "2a8711e9-9f89-47d1-baa5-d329d74e7250",
        "colab": {
          "base_uri": "https://localhost:8080/",
          "height": 34
        }
      },
      "cell_type": "code",
      "source": [
        "sorted(glob.glob('TEST/*'), reverse = True) # DESC sort all the files(key = lambda x: x[-1])"
      ],
      "execution_count": 0,
      "outputs": [
        {
          "output_type": "execute_result",
          "data": {
            "text/plain": [
              "['TEST/TEST2', 'TEST/TEST1']"
            ]
          },
          "metadata": {
            "tags": []
          },
          "execution_count": 106
        }
      ]
    },
    {
      "metadata": {
        "id": "06k94XZMB_DI",
        "colab_type": "code",
        "colab": {}
      },
      "cell_type": "code",
      "source": [
        ""
      ],
      "execution_count": 0,
      "outputs": []
    }
  ]
}